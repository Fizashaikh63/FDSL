{
 "cells": [
  {
   "cell_type": "code",
   "execution_count": 12,
   "id": "3ccb6663",
   "metadata": {},
   "outputs": [
    {
     "name": "stdout",
     "output_type": "stream",
     "text": [
      "Pandas Series:\n",
      "a    12\n",
      "b    13\n",
      "c    14\n",
      "d    15\n",
      "e    15\n",
      "dtype: int64\n",
      "\n",
      "Access single value: 14\n"
     ]
    }
   ],
   "source": [
    "#PANDAS Library\n",
    "import pandas as pd\n",
    "\n",
    "# Creating a Series\n",
    "s = pd.Series([12, 13, 14, 15, 15], index=['a','b','c','d','e'])\n",
    "\n",
    "print(\"Pandas Series:\")\n",
    "print(s)\n",
    "print(\"\\nAccess single value:\", s['c'])"
   ]
  },
  {
   "cell_type": "code",
   "execution_count": 36,
   "id": "c5a0edde",
   "metadata": {},
   "outputs": [
    {
     "data": {
      "text/plain": [
       "pandas.core.series.Series"
      ]
     },
     "execution_count": 36,
     "metadata": {},
     "output_type": "execute_result"
    }
   ],
   "source": [
    "type(s)"
   ]
  },
  {
   "cell_type": "code",
   "execution_count": 27,
   "id": "848f82a3",
   "metadata": {},
   "outputs": [
    {
     "name": "stdout",
     "output_type": "stream",
     "text": [
      "Pandas DataFrame:\n",
      "        Name  Age  Marks\n",
      "0       Fiza   18     88\n",
      "1     Humera   19     92\n",
      "2  vaishnavi   20     85\n",
      "3    hindavi   18     89\n",
      "4    ruchita   19     90\n",
      "5       Anam   20     95\n",
      "\n",
      "Access single column (as Series):\n",
      "0         Fiza\n",
      "1       Humera\n",
      "2    vaishnavi\n",
      "3      hindavi\n",
      "4      ruchita\n",
      "5         Anam\n",
      "Name: Name, dtype: object\n"
     ]
    }
   ],
   "source": [
    "# Creating a DataFrame\n",
    "data = {\n",
    "    'Name': ['Fiza', 'Humera', 'vaishnavi','hindavi','ruchita','Anam'],\n",
    "    'Age': [18, 19, 20,18,19,20],\n",
    "    'Marks': [88, 92, 85,89,90,95]\n",
    "}\n",
    "\n",
    "df = pd.DataFrame(data)\n",
    "\n",
    "print(\"Pandas DataFrame:\")\n",
    "print(df)\n",
    "print(\"\\nAccess single column (as Series):\")\n",
    "print(df['Name'])"
   ]
  },
  {
   "cell_type": "code",
   "execution_count": 28,
   "id": "3bd7fc82",
   "metadata": {},
   "outputs": [
    {
     "data": {
      "text/plain": [
       "pandas.core.frame.DataFrame"
      ]
     },
     "execution_count": 28,
     "metadata": {},
     "output_type": "execute_result"
    }
   ],
   "source": [
    "type(df)"
   ]
  },
  {
   "cell_type": "code",
   "execution_count": 29,
   "id": "dd7872cb",
   "metadata": {},
   "outputs": [
    {
     "name": "stdout",
     "output_type": "stream",
     "text": [
      "Original:\n",
      " 0    11\n",
      "1    23\n",
      "2    31\n",
      "3    45\n",
      "4    52\n",
      "dtype: int64\n",
      "\n",
      "Multiplied by 2:\n",
      " 0     22\n",
      "1     46\n",
      "2     62\n",
      "3     90\n",
      "4    104\n",
      "dtype: int64\n",
      "\n",
      " Divide by 2:\n",
      " 0     5.5\n",
      "1    11.5\n",
      "2    15.5\n",
      "3    22.5\n",
      "4    26.0\n",
      "dtype: float64\n",
      "\n",
      " mode by 2:\n",
      " 0    1\n",
      "1    1\n",
      "2    1\n",
      "3    1\n",
      "4    0\n",
      "dtype: int64\n",
      "\n",
      " Substraction by 5\n",
      " 0     4\n",
      "1    16\n",
      "2    24\n",
      "3    38\n",
      "4    45\n",
      "dtype: int64\n"
     ]
    }
   ],
   "source": [
    "#perform arithmatic operation\n",
    "s = pd.Series([11, 23, 31, 45, 52])\n",
    "print(\"Original:\\n\", s)\n",
    "print(\"\\nMultiplied by 2:\\n\", s * 2)\n",
    "print(\"\\n Divide by 2:\\n\",s/2)\n",
    "print(\"\\n mode by 2:\\n\",s%2)\n",
    "print(\"\\n Substraction by 5\\n\",s-7)"
   ]
  },
  {
   "cell_type": "code",
   "execution_count": 46,
   "id": "c5ab9621",
   "metadata": {},
   "outputs": [
    {
     "name": "stdout",
     "output_type": "stream",
     "text": [
      "0         Fiza\n",
      "1       Humera\n",
      "2    vaishnavi\n",
      "3      hindavi\n",
      "4      ruchita\n",
      "5         Anam\n",
      "Name: Name, dtype: object\n"
     ]
    }
   ],
   "source": [
    "print(df['Name'] ) # select single column\n",
    "            "
   ]
  },
  {
   "cell_type": "code",
   "execution_count": 42,
   "id": "8ce6b998",
   "metadata": {},
   "outputs": [
    {
     "name": "stdout",
     "output_type": "stream",
     "text": [
      "        Name  Marks\n",
      "0       Fiza     88\n",
      "1     Humera     92\n",
      "2  vaishnavi     85\n",
      "3    hindavi     89\n",
      "4    ruchita     90\n",
      "5       Anam     95\n"
     ]
    }
   ],
   "source": [
    "print(df[['Name','Marks']])   # select multiple columns"
   ]
  },
  {
   "cell_type": "code",
   "execution_count": 43,
   "id": "f777e511",
   "metadata": {},
   "outputs": [
    {
     "name": "stdout",
     "output_type": "stream",
     "text": [
      "Name     Fiza\n",
      "Age        18\n",
      "Marks      88\n",
      "Name: 0, dtype: object\n"
     ]
    }
   ],
   "source": [
    "print(df.iloc[0] )       # first row by index"
   ]
  },
  {
   "cell_type": "code",
   "execution_count": 44,
   "id": "26f2ae71",
   "metadata": {},
   "outputs": [
    {
     "name": "stdout",
     "output_type": "stream",
     "text": [
      "        Name  Age  Marks\n",
      "1     Humera   19     92\n",
      "2  vaishnavi   20     85\n"
     ]
    }
   ],
   "source": [
    "print(df.iloc[1:3])           # rows by index range"
   ]
  },
  {
   "cell_type": "code",
   "execution_count": 45,
   "id": "1bcc6796",
   "metadata": {},
   "outputs": [
    {
     "name": "stdout",
     "output_type": "stream",
     "text": [
      "        Name  Age  Marks\n",
      "0       Fiza   18     88\n",
      "1     Humera   19     92\n",
      "2  vaishnavi   20     85\n",
      "3    hindavi   18     89\n",
      "4    ruchita   19     90\n",
      "5       Anam   20     95\n"
     ]
    }
   ],
   "source": [
    "print(df.loc[df['Marks']>70]) # filter condition"
   ]
  },
  {
   "cell_type": "code",
   "execution_count": 31,
   "id": "b29539ec",
   "metadata": {},
   "outputs": [
    {
     "data": {
      "text/plain": [
       "Marks\n",
       "88    1\n",
       "92    1\n",
       "85    1\n",
       "89    1\n",
       "90    1\n",
       "95    1\n",
       "Name: count, dtype: int64"
      ]
     },
     "execution_count": 31,
     "metadata": {},
     "output_type": "execute_result"
    }
   ],
   "source": [
    "df.describe()          # summary statistics (mean, std, min, max, etc.)\n",
    "df['Marks'].mean()     # average marks\n",
    "df['Marks'].median()   # median\n",
    "df['Marks'].max()      # maximum value\n",
    "df['Marks'].min()      # minimum value\n",
    "df['Marks'].sum()      # sum of column\n",
    "df['Marks'].value_counts()  # frequency count"
   ]
  },
  {
   "cell_type": "code",
   "execution_count": 49,
   "id": "54300927",
   "metadata": {},
   "outputs": [],
   "source": [
    "data=pd.read_csv(\"Indian_Kids_Screen_Time.csv\") "
   ]
  },
  {
   "cell_type": "code",
   "execution_count": 50,
   "id": "e701dc53",
   "metadata": {},
   "outputs": [],
   "source": [
    "data.to_csv(\"updated.csv\", index=False)"
   ]
  },
  {
   "cell_type": "code",
   "execution_count": 52,
   "id": "e53854e8",
   "metadata": {},
   "outputs": [
    {
     "data": {
      "text/html": [
       "<div>\n",
       "<style scoped>\n",
       "    .dataframe tbody tr th:only-of-type {\n",
       "        vertical-align: middle;\n",
       "    }\n",
       "\n",
       "    .dataframe tbody tr th {\n",
       "        vertical-align: top;\n",
       "    }\n",
       "\n",
       "    .dataframe thead th {\n",
       "        text-align: right;\n",
       "    }\n",
       "</style>\n",
       "<table border=\"1\" class=\"dataframe\">\n",
       "  <thead>\n",
       "    <tr style=\"text-align: right;\">\n",
       "      <th></th>\n",
       "      <th>Age</th>\n",
       "      <th>Gender</th>\n",
       "      <th>Avg_Daily_Screen_Time_hr</th>\n",
       "      <th>Primary_Device</th>\n",
       "      <th>Exceeded_Recommended_Limit</th>\n",
       "      <th>Educational_to_Recreational_Ratio</th>\n",
       "      <th>Health_Impacts</th>\n",
       "      <th>Urban_or_Rural</th>\n",
       "    </tr>\n",
       "  </thead>\n",
       "  <tbody>\n",
       "    <tr>\n",
       "      <th>0</th>\n",
       "      <td>14</td>\n",
       "      <td>Male</td>\n",
       "      <td>3.99</td>\n",
       "      <td>Smartphone</td>\n",
       "      <td>True</td>\n",
       "      <td>0.42</td>\n",
       "      <td>Poor Sleep, Eye Strain</td>\n",
       "      <td>Urban</td>\n",
       "    </tr>\n",
       "    <tr>\n",
       "      <th>1</th>\n",
       "      <td>11</td>\n",
       "      <td>Female</td>\n",
       "      <td>4.61</td>\n",
       "      <td>Laptop</td>\n",
       "      <td>True</td>\n",
       "      <td>0.30</td>\n",
       "      <td>Poor Sleep</td>\n",
       "      <td>Urban</td>\n",
       "    </tr>\n",
       "    <tr>\n",
       "      <th>2</th>\n",
       "      <td>18</td>\n",
       "      <td>Female</td>\n",
       "      <td>3.73</td>\n",
       "      <td>TV</td>\n",
       "      <td>True</td>\n",
       "      <td>0.32</td>\n",
       "      <td>Poor Sleep</td>\n",
       "      <td>Urban</td>\n",
       "    </tr>\n",
       "    <tr>\n",
       "      <th>3</th>\n",
       "      <td>15</td>\n",
       "      <td>Female</td>\n",
       "      <td>1.21</td>\n",
       "      <td>Laptop</td>\n",
       "      <td>False</td>\n",
       "      <td>0.39</td>\n",
       "      <td>NaN</td>\n",
       "      <td>Urban</td>\n",
       "    </tr>\n",
       "    <tr>\n",
       "      <th>4</th>\n",
       "      <td>12</td>\n",
       "      <td>Female</td>\n",
       "      <td>5.89</td>\n",
       "      <td>Smartphone</td>\n",
       "      <td>True</td>\n",
       "      <td>0.49</td>\n",
       "      <td>Poor Sleep, Anxiety</td>\n",
       "      <td>Urban</td>\n",
       "    </tr>\n",
       "  </tbody>\n",
       "</table>\n",
       "</div>"
      ],
      "text/plain": [
       "   Age  Gender  Avg_Daily_Screen_Time_hr Primary_Device  \\\n",
       "0   14    Male                      3.99     Smartphone   \n",
       "1   11  Female                      4.61         Laptop   \n",
       "2   18  Female                      3.73             TV   \n",
       "3   15  Female                      1.21         Laptop   \n",
       "4   12  Female                      5.89     Smartphone   \n",
       "\n",
       "   Exceeded_Recommended_Limit  Educational_to_Recreational_Ratio  \\\n",
       "0                        True                               0.42   \n",
       "1                        True                               0.30   \n",
       "2                        True                               0.32   \n",
       "3                       False                               0.39   \n",
       "4                        True                               0.49   \n",
       "\n",
       "           Health_Impacts Urban_or_Rural  \n",
       "0  Poor Sleep, Eye Strain          Urban  \n",
       "1              Poor Sleep          Urban  \n",
       "2              Poor Sleep          Urban  \n",
       "3                     NaN          Urban  \n",
       "4     Poor Sleep, Anxiety          Urban  "
      ]
     },
     "execution_count": 52,
     "metadata": {},
     "output_type": "execute_result"
    }
   ],
   "source": [
    "data.head()\n",
    "\n"
   ]
  },
  {
   "cell_type": "code",
   "execution_count": 53,
   "id": "91eca849",
   "metadata": {},
   "outputs": [
    {
     "data": {
      "text/html": [
       "<div>\n",
       "<style scoped>\n",
       "    .dataframe tbody tr th:only-of-type {\n",
       "        vertical-align: middle;\n",
       "    }\n",
       "\n",
       "    .dataframe tbody tr th {\n",
       "        vertical-align: top;\n",
       "    }\n",
       "\n",
       "    .dataframe thead th {\n",
       "        text-align: right;\n",
       "    }\n",
       "</style>\n",
       "<table border=\"1\" class=\"dataframe\">\n",
       "  <thead>\n",
       "    <tr style=\"text-align: right;\">\n",
       "      <th></th>\n",
       "      <th>Age</th>\n",
       "      <th>Gender</th>\n",
       "      <th>Avg_Daily_Screen_Time_hr</th>\n",
       "      <th>Primary_Device</th>\n",
       "      <th>Exceeded_Recommended_Limit</th>\n",
       "      <th>Educational_to_Recreational_Ratio</th>\n",
       "      <th>Health_Impacts</th>\n",
       "      <th>Urban_or_Rural</th>\n",
       "    </tr>\n",
       "  </thead>\n",
       "  <tbody>\n",
       "    <tr>\n",
       "      <th>9707</th>\n",
       "      <td>17</td>\n",
       "      <td>Male</td>\n",
       "      <td>3.26</td>\n",
       "      <td>Smartphone</td>\n",
       "      <td>True</td>\n",
       "      <td>0.44</td>\n",
       "      <td>Poor Sleep</td>\n",
       "      <td>Urban</td>\n",
       "    </tr>\n",
       "    <tr>\n",
       "      <th>9708</th>\n",
       "      <td>17</td>\n",
       "      <td>Female</td>\n",
       "      <td>4.43</td>\n",
       "      <td>Smartphone</td>\n",
       "      <td>True</td>\n",
       "      <td>0.40</td>\n",
       "      <td>Poor Sleep</td>\n",
       "      <td>Rural</td>\n",
       "    </tr>\n",
       "    <tr>\n",
       "      <th>9709</th>\n",
       "      <td>16</td>\n",
       "      <td>Male</td>\n",
       "      <td>5.62</td>\n",
       "      <td>Smartphone</td>\n",
       "      <td>True</td>\n",
       "      <td>0.39</td>\n",
       "      <td>Poor Sleep, Eye Strain, Anxiety</td>\n",
       "      <td>Rural</td>\n",
       "    </tr>\n",
       "    <tr>\n",
       "      <th>9710</th>\n",
       "      <td>17</td>\n",
       "      <td>Male</td>\n",
       "      <td>5.60</td>\n",
       "      <td>TV</td>\n",
       "      <td>True</td>\n",
       "      <td>0.43</td>\n",
       "      <td>Poor Sleep</td>\n",
       "      <td>Urban</td>\n",
       "    </tr>\n",
       "    <tr>\n",
       "      <th>9711</th>\n",
       "      <td>15</td>\n",
       "      <td>Female</td>\n",
       "      <td>6.12</td>\n",
       "      <td>TV</td>\n",
       "      <td>True</td>\n",
       "      <td>0.33</td>\n",
       "      <td>Anxiety</td>\n",
       "      <td>Urban</td>\n",
       "    </tr>\n",
       "  </tbody>\n",
       "</table>\n",
       "</div>"
      ],
      "text/plain": [
       "      Age  Gender  Avg_Daily_Screen_Time_hr Primary_Device  \\\n",
       "9707   17    Male                      3.26     Smartphone   \n",
       "9708   17  Female                      4.43     Smartphone   \n",
       "9709   16    Male                      5.62     Smartphone   \n",
       "9710   17    Male                      5.60             TV   \n",
       "9711   15  Female                      6.12             TV   \n",
       "\n",
       "      Exceeded_Recommended_Limit  Educational_to_Recreational_Ratio  \\\n",
       "9707                        True                               0.44   \n",
       "9708                        True                               0.40   \n",
       "9709                        True                               0.39   \n",
       "9710                        True                               0.43   \n",
       "9711                        True                               0.33   \n",
       "\n",
       "                       Health_Impacts Urban_or_Rural  \n",
       "9707                       Poor Sleep          Urban  \n",
       "9708                       Poor Sleep          Rural  \n",
       "9709  Poor Sleep, Eye Strain, Anxiety          Rural  \n",
       "9710                       Poor Sleep          Urban  \n",
       "9711                          Anxiety          Urban  "
      ]
     },
     "execution_count": 53,
     "metadata": {},
     "output_type": "execute_result"
    }
   ],
   "source": [
    "data.tail()"
   ]
  },
  {
   "cell_type": "code",
   "execution_count": 19,
   "id": "a1646e9a",
   "metadata": {},
   "outputs": [
    {
     "name": "stdout",
     "output_type": "stream",
     "text": [
      "(9712, 8)\n"
     ]
    }
   ],
   "source": [
    "print(data.shape)"
   ]
  },
  {
   "cell_type": "code",
   "execution_count": 54,
   "id": "66eb4697",
   "metadata": {},
   "outputs": [
    {
     "name": "stdout",
     "output_type": "stream",
     "text": [
      "<class 'pandas.core.frame.DataFrame'>\n",
      "RangeIndex: 9712 entries, 0 to 9711\n",
      "Data columns (total 8 columns):\n",
      " #   Column                             Non-Null Count  Dtype  \n",
      "---  ------                             --------------  -----  \n",
      " 0   Age                                9712 non-null   int64  \n",
      " 1   Gender                             9712 non-null   object \n",
      " 2   Avg_Daily_Screen_Time_hr           9712 non-null   float64\n",
      " 3   Primary_Device                     9712 non-null   object \n",
      " 4   Exceeded_Recommended_Limit         9712 non-null   bool   \n",
      " 5   Educational_to_Recreational_Ratio  9712 non-null   float64\n",
      " 6   Health_Impacts                     6494 non-null   object \n",
      " 7   Urban_or_Rural                     9712 non-null   object \n",
      "dtypes: bool(1), float64(2), int64(1), object(4)\n",
      "memory usage: 540.7+ KB\n"
     ]
    }
   ],
   "source": [
    "data.info()"
   ]
  },
  {
   "cell_type": "code",
   "execution_count": 55,
   "id": "47ad2fa1",
   "metadata": {},
   "outputs": [
    {
     "data": {
      "text/html": [
       "<div>\n",
       "<style scoped>\n",
       "    .dataframe tbody tr th:only-of-type {\n",
       "        vertical-align: middle;\n",
       "    }\n",
       "\n",
       "    .dataframe tbody tr th {\n",
       "        vertical-align: top;\n",
       "    }\n",
       "\n",
       "    .dataframe thead th {\n",
       "        text-align: right;\n",
       "    }\n",
       "</style>\n",
       "<table border=\"1\" class=\"dataframe\">\n",
       "  <thead>\n",
       "    <tr style=\"text-align: right;\">\n",
       "      <th></th>\n",
       "      <th>Age</th>\n",
       "      <th>Avg_Daily_Screen_Time_hr</th>\n",
       "      <th>Educational_to_Recreational_Ratio</th>\n",
       "    </tr>\n",
       "  </thead>\n",
       "  <tbody>\n",
       "    <tr>\n",
       "      <th>count</th>\n",
       "      <td>9712.000000</td>\n",
       "      <td>9712.000000</td>\n",
       "      <td>9712.000000</td>\n",
       "    </tr>\n",
       "    <tr>\n",
       "      <th>mean</th>\n",
       "      <td>12.979201</td>\n",
       "      <td>4.352837</td>\n",
       "      <td>0.427226</td>\n",
       "    </tr>\n",
       "    <tr>\n",
       "      <th>std</th>\n",
       "      <td>3.162437</td>\n",
       "      <td>1.718232</td>\n",
       "      <td>0.073221</td>\n",
       "    </tr>\n",
       "    <tr>\n",
       "      <th>min</th>\n",
       "      <td>8.000000</td>\n",
       "      <td>0.000000</td>\n",
       "      <td>0.300000</td>\n",
       "    </tr>\n",
       "    <tr>\n",
       "      <th>25%</th>\n",
       "      <td>10.000000</td>\n",
       "      <td>3.410000</td>\n",
       "      <td>0.370000</td>\n",
       "    </tr>\n",
       "    <tr>\n",
       "      <th>50%</th>\n",
       "      <td>13.000000</td>\n",
       "      <td>4.440000</td>\n",
       "      <td>0.430000</td>\n",
       "    </tr>\n",
       "    <tr>\n",
       "      <th>75%</th>\n",
       "      <td>16.000000</td>\n",
       "      <td>5.380000</td>\n",
       "      <td>0.480000</td>\n",
       "    </tr>\n",
       "    <tr>\n",
       "      <th>max</th>\n",
       "      <td>18.000000</td>\n",
       "      <td>13.890000</td>\n",
       "      <td>0.600000</td>\n",
       "    </tr>\n",
       "  </tbody>\n",
       "</table>\n",
       "</div>"
      ],
      "text/plain": [
       "               Age  Avg_Daily_Screen_Time_hr  \\\n",
       "count  9712.000000               9712.000000   \n",
       "mean     12.979201                  4.352837   \n",
       "std       3.162437                  1.718232   \n",
       "min       8.000000                  0.000000   \n",
       "25%      10.000000                  3.410000   \n",
       "50%      13.000000                  4.440000   \n",
       "75%      16.000000                  5.380000   \n",
       "max      18.000000                 13.890000   \n",
       "\n",
       "       Educational_to_Recreational_Ratio  \n",
       "count                        9712.000000  \n",
       "mean                            0.427226  \n",
       "std                             0.073221  \n",
       "min                             0.300000  \n",
       "25%                             0.370000  \n",
       "50%                             0.430000  \n",
       "75%                             0.480000  \n",
       "max                             0.600000  "
      ]
     },
     "execution_count": 55,
     "metadata": {},
     "output_type": "execute_result"
    }
   ],
   "source": [
    "data.describe()"
   ]
  },
  {
   "cell_type": "code",
   "execution_count": 24,
   "id": "cf33d52e",
   "metadata": {},
   "outputs": [
    {
     "name": "stdout",
     "output_type": "stream",
     "text": [
      "Age                                    int64\n",
      "Gender                                object\n",
      "Avg_Daily_Screen_Time_hr             float64\n",
      "Primary_Device                        object\n",
      "Exceeded_Recommended_Limit              bool\n",
      "Educational_to_Recreational_Ratio    float64\n",
      "Health_Impacts                        object\n",
      "Urban_or_Rural                        object\n",
      "dtype: object\n"
     ]
    }
   ],
   "source": [
    "print(data.dtypes)"
   ]
  },
  {
   "cell_type": "code",
   "execution_count": 25,
   "id": "9168b9a3",
   "metadata": {},
   "outputs": [
    {
     "name": "stdout",
     "output_type": "stream",
     "text": [
      "Index(['Age', 'Gender', 'Avg_Daily_Screen_Time_hr', 'Primary_Device',\n",
      "       'Exceeded_Recommended_Limit', 'Educational_to_Recreational_Ratio',\n",
      "       'Health_Impacts', 'Urban_or_Rural'],\n",
      "      dtype='object')\n"
     ]
    }
   ],
   "source": [
    "print(data.columns)"
   ]
  },
  {
   "cell_type": "code",
   "execution_count": 26,
   "id": "c17b5e8c",
   "metadata": {},
   "outputs": [
    {
     "name": "stdout",
     "output_type": "stream",
     "text": [
      "RangeIndex(start=0, stop=9712, step=1)\n"
     ]
    }
   ],
   "source": [
    "print(data.index)"
   ]
  },
  {
   "cell_type": "code",
   "execution_count": 56,
   "id": "569118d6",
   "metadata": {},
   "outputs": [
    {
     "data": {
      "text/plain": [
       "Age\n",
       "17    919\n",
       "8     912\n",
       "13    910\n",
       "14    896\n",
       "9     885\n",
       "10    877\n",
       "16    876\n",
       "12    867\n",
       "11    866\n",
       "15    864\n",
       "18    840\n",
       "Name: count, dtype: int64"
      ]
     },
     "execution_count": 56,
     "metadata": {},
     "output_type": "execute_result"
    }
   ],
   "source": [
    "data.describe()          # summary statistics (mean, std, min, max, etc.)\n",
    "data['Age'].mean()     # average marks\n",
    "data['Age'].median()   # median\n",
    "data['Age'].max()      # maximum value\n",
    "data['Age'].min()      # minimum value\n",
    "data['Age'].sum()      # sum of column\n",
    "data['Age'].value_counts()  # frequency count"
   ]
  }
 ],
 "metadata": {
  "kernelspec": {
   "display_name": "base",
   "language": "python",
   "name": "python3"
  },
  "language_info": {
   "codemirror_mode": {
    "name": "ipython",
    "version": 3
   },
   "file_extension": ".py",
   "mimetype": "text/x-python",
   "name": "python",
   "nbconvert_exporter": "python",
   "pygments_lexer": "ipython3",
   "version": "3.12.7"
  }
 },
 "nbformat": 4,
 "nbformat_minor": 5
}
