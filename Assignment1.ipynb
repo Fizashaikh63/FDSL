{
 "cells": [
  {
   "cell_type": "code",
   "execution_count": null,
   "id": "efe55837",
   "metadata": {},
   "outputs": [
    {
     "name": "stdout",
     "output_type": "stream",
     "text": [
      "[0. 0. 0. 0. 0.]\n",
      "<class 'numpy.ndarray'>\n"
     ]
    },
    {
     "data": {
      "text/plain": [
       "array([0, 0, 0, 0, 0], dtype=int32)"
      ]
     },
     "execution_count": 10,
     "metadata": {},
     "output_type": "execute_result"
    }
   ],
   "source": [
    "import numpy as np\n",
    "zeros_arr=np.zeros(5)\n",
    "print(zeros_arr)\n",
    "print(type(zeros_arr))\n",
    "zeros_arr.dtype\n",
    "zeros_arr.astype(np.int32)\n",
    "\n"
   ]
  },
  {
   "cell_type": "code",
   "execution_count": 55,
   "id": "ffc71ea2",
   "metadata": {},
   "outputs": [
    {
     "name": "stdout",
     "output_type": "stream",
     "text": [
      "[[1 4 6]\n",
      " [5 6 7]\n",
      " [8 9 5]\n",
      " [3 5 6]]\n",
      "[[1 5 8 3]\n",
      " [4 6 9 5]\n",
      " [6 7 5 6]]\n",
      "Shape of the array: (4, 3)\n",
      "datatype of array: int64\n",
      "[[1 5 8 3]\n",
      " [4 6 9 5]\n",
      " [6 7 5 6]]\n",
      "9\n"
     ]
    }
   ],
   "source": [
    "arr=np.array([[1,4,6],[5,6,7],[8,9,5],[3,5,6]])\n",
    "print(arr)\n",
    "print(np.swapaxes(arr,1,0))\n",
    "print(\"Shape of the array:\",arr.shape)\n",
    "print(\"datatype of array:\",arr.dtype)\n",
    "print(np.swapaxes(arr,1,0))\n",
    "print(np.max(arr))"
   ]
  },
  {
   "cell_type": "code",
   "execution_count": 54,
   "id": "10eb9ac4",
   "metadata": {},
   "outputs": [
    {
     "name": "stdout",
     "output_type": "stream",
     "text": [
      "[[1 4 6 5]\n",
      " [6 7 8 9]\n",
      " [5 3 5 6]]\n"
     ]
    }
   ],
   "source": [
    "arr=np.array([[1,4,6],[5,6,7],[8,9,5],[3,5,6]])\n",
    "print(arr.reshape(3,4))"
   ]
  },
  {
   "cell_type": "code",
   "execution_count": 53,
   "id": "f48dbcc8",
   "metadata": {},
   "outputs": [
    {
     "name": "stdout",
     "output_type": "stream",
     "text": [
      "[1. 2. 3. 4. 5.]\n"
     ]
    }
   ],
   "source": [
    "arr=np.array([[1,4,6],[5,6,7],[8,9,5],[3,5,6]])\n",
    "print(np.linspace(1,5,num=5))#use to get perticular range value"
   ]
  },
  {
   "cell_type": "code",
   "execution_count": 52,
   "id": "e5c7ac0b",
   "metadata": {},
   "outputs": [
    {
     "name": "stdout",
     "output_type": "stream",
     "text": [
      "[1 1 1 1 1]\n"
     ]
    }
   ],
   "source": [
    "ones_arr=np.ones(5,dtype=\"int\")\n",
    "print(ones_arr)\n"
   ]
  },
  {
   "cell_type": "code",
   "execution_count": 48,
   "id": "84148d93",
   "metadata": {},
   "outputs": [
    {
     "name": "stdout",
     "output_type": "stream",
     "text": [
      "[[1 4 5]\n",
      " [3 5 6]\n",
      " [5 6 6]\n",
      " [8 9 7]]\n",
      "[[1 4 6]\n",
      " [5 6 7]\n",
      " [5 8 9]\n",
      " [3 5 6]]\n"
     ]
    }
   ],
   "source": [
    "arr=np.array([[1,4,6],[5,6,7],[8,9,5],[3,5,6]])\n",
    "print(np.sort(arr,axis=0))\n",
    "print(np.sort(arr,axis=1))"
   ]
  },
  {
   "cell_type": "code",
   "execution_count": null,
   "id": "d3ce9720",
   "metadata": {},
   "outputs": [
    {
     "name": "stdout",
     "output_type": "stream",
     "text": [
      "[[1 2 3]\n",
      " [4 5 6]\n",
      " [6 7 8]]\n",
      "(3, 3)\n",
      "int64\n",
      "2\n",
      "9\n",
      "(3, 3)\n",
      "[6 7 8]\n"
     ]
    }
   ],
   "source": [
    "arr=np.array([[1,2,3],[4,5,6],[6,7,8]])\n",
    "print(arr)\n",
    "# print(arr.shape)\n",
    "# print(arr.dtype)\n",
    "# print(arr.ndim)\n",
    "# print(arr.size)\n",
    "# print(arr.shape)\n",
    "# print(arr[-1])\n",
    "arr.argmax\n",
    "arr.argmin #differnt attribute,arr dispalya 1 2 3 ,rearange,reshape,"
   ]
  },
  {
   "cell_type": "code",
   "execution_count": null,
   "id": "c10f6580",
   "metadata": {},
   "outputs": [
    {
     "data": {
      "text/plain": [
       "array([[ 2,  3,  4],\n",
       "       [ 5,  6,  7],\n",
       "       [ 8,  9, 10]])"
      ]
     },
     "execution_count": 10,
     "metadata": {},
     "output_type": "execute_result"
    }
   ],
   "source": [
    "import numpy as np\n",
    "array1=np.arange(2,11) # it arrange the element\n",
    "# array1\n",
    "b=array1.reshape(3,3) #it reshape the \n",
    "b\n"
   ]
  },
  {
   "cell_type": "code",
   "execution_count": null,
   "id": "cc04524f",
   "metadata": {},
   "outputs": [
    {
     "name": "stdout",
     "output_type": "stream",
     "text": [
      "\u001b[31mType:\u001b[39m        ndarray\n",
      "\u001b[31mString form:\u001b[39m\n",
      "[[1 2 3]\n",
      " [4 5 6]\n",
      " [6 7 8]]\n",
      "\u001b[31mLength:\u001b[39m      3\n",
      "\u001b[31mFile:\u001b[39m        c:\\users\\sai\\appdata\\roaming\\python\\python312\\site-packages\\numpy\\__init__.py\n",
      "\u001b[31mDocstring:\u001b[39m  \n",
      "ndarray(shape, dtype=float, buffer=None, offset=0,\n",
      "        strides=None, order=None)\n",
      "\n",
      "An array object represents a multidimensional, homogeneous array\n",
      "of fixed-size items.  An associated data-type object describes the\n",
      "format of each element in the array (its byte-order, how many bytes it\n",
      "occupies in memory, whether it is an integer, a floating point number,\n",
      "or something else, etc.)\n",
      "\n",
      "Arrays should be constructed using `array`, `zeros` or `empty` (refer\n",
      "to the See Also section below).  The parameters given here refer to\n",
      "a low-level method (`ndarray(...)`) for instantiating an array.\n",
      "\n",
      "For more information, refer to the `numpy` module and examine the\n",
      "methods and attributes of an array.\n",
      "\n",
      "Parameters\n",
      "----------\n",
      "(for the __new__ method; see Notes below)\n",
      "\n",
      "shape : tuple of ints\n",
      "    Shape of created array.\n",
      "dtype : data-type, optional\n",
      "    Any object that can be interpreted as a numpy data type.\n",
      "buffer : object exposing buffer interface, optional\n",
      "    Used to fill the array with data.\n",
      "offset : int, optional\n",
      "    Offset of array data in buffer.\n",
      "strides : tuple of ints, optional\n",
      "    Strides of data in memory.\n",
      "order : {'C', 'F'}, optional\n",
      "    Row-major (C-style) or column-major (Fortran-style) order.\n",
      "\n",
      "Attributes\n",
      "----------\n",
      "T : ndarray\n",
      "    Transpose of the array.\n",
      "data : buffer\n",
      "    The array's elements, in memory.\n",
      "dtype : dtype object\n",
      "    Describes the format of the elements in the array.\n",
      "flags : dict\n",
      "    Dictionary containing information related to memory use, e.g.,\n",
      "    'C_CONTIGUOUS', 'OWNDATA', 'WRITEABLE', etc.\n",
      "flat : numpy.flatiter object\n",
      "    Flattened version of the array as an iterator.  The iterator\n",
      "    allows assignments, e.g., ``x.flat = 3`` (See `ndarray.flat` for\n",
      "    assignment examples; TODO).\n",
      "imag : ndarray\n",
      "    Imaginary part of the array.\n",
      "real : ndarray\n",
      "    Real part of the array.\n",
      "size : int\n",
      "    Number of elements in the array.\n",
      "itemsize : int\n",
      "    The memory use of each array element in bytes.\n",
      "nbytes : int\n",
      "    The total number of bytes required to store the array data,\n",
      "    i.e., ``itemsize * size``.\n",
      "ndim : int\n",
      "    The array's number of dimensions.\n",
      "shape : tuple of ints\n",
      "    Shape of the array.\n",
      "strides : tuple of ints\n",
      "    The step-size required to move from one element to the next in\n",
      "    memory. For example, a contiguous ``(3, 4)`` array of type\n",
      "    ``int16`` in C-order has strides ``(8, 2)``.  This implies that\n",
      "    to move from element to element in memory requires jumps of 2 bytes.\n",
      "    To move from row-to-row, one needs to jump 8 bytes at a time\n",
      "    (``2 * 4``).\n",
      "ctypes : ctypes object\n",
      "    Class containing properties of the array needed for interaction\n",
      "    with ctypes.\n",
      "base : ndarray\n",
      "    If the array is a view into another array, that array is its `base`\n",
      "    (unless that array is also a view).  The `base` array is where the\n",
      "    array data is actually stored.\n",
      "\n",
      "See Also\n",
      "--------\n",
      "array : Construct an array.\n",
      "zeros : Create an array, each element of which is zero.\n",
      "empty : Create an array, but leave its allocated memory unchanged (i.e.,\n",
      "        it contains \"garbage\").\n",
      "dtype : Create a data-type.\n",
      "numpy.typing.NDArray : An ndarray alias :term:`generic <generic type>`\n",
      "                       w.r.t. its `dtype.type <numpy.dtype.type>`.\n",
      "\n",
      "Notes\n",
      "-----\n",
      "There are two modes of creating an array using ``__new__``:\n",
      "\n",
      "1. If `buffer` is None, then only `shape`, `dtype`, and `order`\n",
      "   are used.\n",
      "2. If `buffer` is an object exposing the buffer interface, then\n",
      "   all keywords are interpreted.\n",
      "\n",
      "No ``__init__`` method is needed because the array is fully initialized\n",
      "after the ``__new__`` method.\n",
      "\n",
      "Examples\n",
      "--------\n",
      "These examples illustrate the low-level `ndarray` constructor.  Refer\n",
      "to the `See Also` section above for easier ways of constructing an\n",
      "ndarray.\n",
      "\n",
      "First mode, `buffer` is None:\n",
      "\n",
      ">>> np.ndarray(shape=(2,2), dtype=float, order='F')\n",
      "array([[0.0e+000, 0.0e+000], # random\n",
      "       [     nan, 2.5e-323]])\n",
      "\n",
      "Second mode:\n",
      "\n",
      ">>> np.ndarray((2,), buffer=np.array([1,2,3]),\n",
      "...            offset=np.int_().itemsize,\n",
      "...            dtype=int) # offset = 1*itemsize, i.e. skip first element\n",
      "array([2, 3])"
     ]
    }
   ],
   "source": [
    "?arr #docstring  it tells how our function can do"
   ]
  },
  {
   "cell_type": "code",
   "execution_count": 39,
   "id": "6e764745",
   "metadata": {},
   "outputs": [
    {
     "name": "stdout",
     "output_type": "stream",
     "text": [
      "1D array\n",
      "[1 2 3 4 5 6 7 8]\n",
      "----------------------------\n",
      "2D array\n",
      "[[1 2 3]\n",
      " [4 5 6]\n",
      " [7 8 9]]\n",
      "----------------------------\n",
      "3D array\n",
      "[[[1 2 3]\n",
      "  [4 5 6]]\n",
      "\n",
      " [[7 8 9]\n",
      "  [2 4 6]]]\n"
     ]
    }
   ],
   "source": [
    "import numpy as np\n",
    "array2=np.array([1,2,3,4,5,6,7,8]) #1D array\n",
    "print(\"1D array\")\n",
    "print(array2)\n",
    "print(\"----------------------------\")\n",
    "array3=np.array([[1,2,3],[4,5,6],[7,8,9,]]) #2D array\n",
    "print(\"2D array\")\n",
    "print(array3)\n",
    "print(\"----------------------------\")\n",
    "array4=np.array([[[1,2,3],[4,5,6]],[[7,8,9],[2,4,6]]]) #3D array\n",
    "print(\"3D array\")\n",
    "print(array4)\n"
   ]
  },
  {
   "cell_type": "code",
   "execution_count": 23,
   "id": "cc2496c5",
   "metadata": {},
   "outputs": [
    {
     "name": "stdout",
     "output_type": "stream",
     "text": [
      "[1 2 3 4 5 6 7 8]\n",
      "2\n",
      "6\n",
      "8\n",
      "6\n"
     ]
    }
   ],
   "source": [
    "# Array indexing\n",
    "print(array2)\n",
    "print(array2[1])\n",
    "print(array2[5])\n",
    "print(array2[-1])\n",
    "print(array2[-3])\n",
    "\n"
   ]
  },
  {
   "cell_type": "code",
   "execution_count": 42,
   "id": "235c4928",
   "metadata": {},
   "outputs": [
    {
     "name": "stdout",
     "output_type": "stream",
     "text": [
      "[[[1 2 3]\n",
      "  [4 5 6]]\n",
      "\n",
      " [[7 8 9]\n",
      "  [2 4 6]]]\n",
      "------------------------\n",
      "[1 2 3 4 5 6 7 8]\n",
      "------------------------\n",
      "[[1 2 3]\n",
      " [4 5 6]\n",
      " [7 8 9]]\n",
      "------------------------\n",
      "(3, 3)\n",
      "8\n",
      "int64\n",
      "3\n",
      "96\n"
     ]
    }
   ],
   "source": [
    "#Array Attribute\n",
    "print(array4)\n",
    "print(\"------------------------\")\n",
    "print(array2)\n",
    "print(\"------------------------\")\n",
    "print(array3)\n",
    "print(\"------------------------\")\n",
    "print(array3.shape) #it shows the shape of the array in the terms of rows and column \n",
    "print(array2.size)  #it shows the count of array element\n",
    "print(array3.dtype) # it shows the data type of element\n",
    "print(array4.ndim) #it shows the dimentions like 1d,2d,3d\n",
    "print(array4.nbytes) #it shows bytes of array\n",
    "\n"
   ]
  },
  {
   "cell_type": "code",
   "execution_count": null,
   "id": "297fb74b",
   "metadata": {},
   "outputs": [
    {
     "data": {
      "text/plain": [
       "array([ 2,  3,  4,  5,  6,  7,  8,  9, 10])"
      ]
     },
     "execution_count": 43,
     "metadata": {},
     "output_type": "execute_result"
    }
   ],
   "source": [
    "array1=np.arange(2,11) # it arrange the element \n",
    "print(array1)\n"
   ]
  },
  {
   "cell_type": "code",
   "execution_count": null,
   "id": "fac2d851",
   "metadata": {},
   "outputs": [
    {
     "name": "stdout",
     "output_type": "stream",
     "text": [
      "[[ 2  3  4]\n",
      " [ 5  6  7]\n",
      " [ 8  9 10]]\n"
     ]
    }
   ],
   "source": [
    "b=array1.reshape(3,3) #it reshape the array in the form of rows and column\n",
    "print(b)"
   ]
  },
  {
   "cell_type": "code",
   "execution_count": 49,
   "id": "9c1d2226",
   "metadata": {},
   "outputs": [
    {
     "name": "stdout",
     "output_type": "stream",
     "text": [
      "[ 3  6  8 10 13 15]\n",
      "[1 2 2 2 1 1]\n",
      "[ 2  8 15 24 42 56]\n",
      "[2.         2.         1.66666667 1.5        1.16666667 1.14285714]\n",
      "[0 0 2 2 1 1]\n"
     ]
    }
   ],
   "source": [
    "#arithmatic operations\n",
    "arr1=np.array([2,4,5,6,7,8])\n",
    "arr2=np.array([1,2,3,4,6,7])\n",
    "add=arr1+arr2\n",
    "print(add) #it gives addition of two array\n",
    "sub=arr1-arr2\n",
    "print(sub) #it gives sub\n",
    "mul=arr1*arr2\n",
    "print(mul) # it gives mul\n",
    "div=arr1/arr2\n",
    "print(div)\n",
    "mod=arr1%arr2\n",
    "print(mod)"
   ]
  },
  {
   "cell_type": "code",
   "execution_count": null,
   "id": "3046d7a0",
   "metadata": {},
   "outputs": [
    {
     "name": "stdout",
     "output_type": "stream",
     "text": [
      "[1 2 3 4 6 7]\n",
      "5\n",
      "0\n",
      "5\n",
      "[0.  0.4 0.8 1.2 1.6 2. ]\n",
      "[1 1 1 2 1]\n"
     ]
    }
   ],
   "source": [
    "# self learning \n",
    "print(arr2)\n",
    "print(np.argmax(arr2)) #it gives the max num index\n",
    "print(np.argmin(arr2)) #it gives the min value index\n",
    "print(np.linspace(0,2,num=6)) #it gives the number between range ,the specific number count which we declare as num=6\n",
    "print(np.diff(arr2)) #it shows the difference between the  each elements "
   ]
  }
 ],
 "metadata": {
  "kernelspec": {
   "display_name": "base",
   "language": "python",
   "name": "python3"
  },
  "language_info": {
   "codemirror_mode": {
    "name": "ipython",
    "version": 3
   },
   "file_extension": ".py",
   "mimetype": "text/x-python",
   "name": "python",
   "nbconvert_exporter": "python",
   "pygments_lexer": "ipython3",
   "version": "3.12.7"
  }
 },
 "nbformat": 4,
 "nbformat_minor": 5
}
