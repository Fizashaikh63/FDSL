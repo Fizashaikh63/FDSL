{
 "cells": [
  {
   "cell_type": "code",
   "execution_count": null,
   "id": "efe55837",
   "metadata": {},
   "outputs": [
    {
     "name": "stdout",
     "output_type": "stream",
     "text": [
      "[0. 0. 0. 0. 0.]\n",
      "<class 'numpy.ndarray'>\n"
     ]
    },
    {
     "data": {
      "text/plain": [
       "array([0, 0, 0, 0, 0], dtype=int32)"
      ]
     },
     "execution_count": 10,
     "metadata": {},
     "output_type": "execute_result"
    }
   ],
   "source": [
    "import numpy as np\n",
    "zeros_arr=np.zeros(5)\n",
    "print(zeros_arr)\n",
    "print(type(zeros_arr))\n",
    "zeros_arr.dtype\n",
    "zeros_arr.astype(np.int32)\n",
    "\n"
   ]
  },
  {
   "cell_type": "code",
   "execution_count": 55,
   "id": "ffc71ea2",
   "metadata": {},
   "outputs": [
    {
     "name": "stdout",
     "output_type": "stream",
     "text": [
      "[[1 4 6]\n",
      " [5 6 7]\n",
      " [8 9 5]\n",
      " [3 5 6]]\n",
      "[[1 5 8 3]\n",
      " [4 6 9 5]\n",
      " [6 7 5 6]]\n",
      "Shape of the array: (4, 3)\n",
      "datatype of array: int64\n",
      "[[1 5 8 3]\n",
      " [4 6 9 5]\n",
      " [6 7 5 6]]\n",
      "9\n"
     ]
    }
   ],
   "source": [
    "arr=np.array([[1,4,6],[5,6,7],[8,9,5],[3,5,6]])\n",
    "print(arr)\n",
    "print(np.swapaxes(arr,1,0))\n",
    "print(\"Shape of the array:\",arr.shape)\n",
    "print(\"datatype of array:\",arr.dtype)\n",
    "print(np.swapaxes(arr,1,0))\n",
    "print(np.max(arr))"
   ]
  },
  {
   "cell_type": "code",
   "execution_count": 54,
   "id": "10eb9ac4",
   "metadata": {},
   "outputs": [
    {
     "name": "stdout",
     "output_type": "stream",
     "text": [
      "[[1 4 6 5]\n",
      " [6 7 8 9]\n",
      " [5 3 5 6]]\n"
     ]
    }
   ],
   "source": [
    "arr=np.array([[1,4,6],[5,6,7],[8,9,5],[3,5,6]])\n",
    "print(arr.reshape(3,4))"
   ]
  },
  {
   "cell_type": "code",
   "execution_count": 53,
   "id": "f48dbcc8",
   "metadata": {},
   "outputs": [
    {
     "name": "stdout",
     "output_type": "stream",
     "text": [
      "[1. 2. 3. 4. 5.]\n"
     ]
    }
   ],
   "source": [
    "arr=np.array([[1,4,6],[5,6,7],[8,9,5],[3,5,6]])\n",
    "print(np.linspace(1,5,num=5))#use to get perticular range value"
   ]
  },
  {
   "cell_type": "code",
   "execution_count": 52,
   "id": "e5c7ac0b",
   "metadata": {},
   "outputs": [
    {
     "name": "stdout",
     "output_type": "stream",
     "text": [
      "[1 1 1 1 1]\n"
     ]
    }
   ],
   "source": [
    "ones_arr=np.ones(5,dtype=\"int\")\n",
    "print(ones_arr)\n"
   ]
  },
  {
   "cell_type": "code",
   "execution_count": 48,
   "id": "84148d93",
   "metadata": {},
   "outputs": [
    {
     "name": "stdout",
     "output_type": "stream",
     "text": [
      "[[1 4 5]\n",
      " [3 5 6]\n",
      " [5 6 6]\n",
      " [8 9 7]]\n",
      "[[1 4 6]\n",
      " [5 6 7]\n",
      " [5 8 9]\n",
      " [3 5 6]]\n"
     ]
    }
   ],
   "source": [
    "arr=np.array([[1,4,6],[5,6,7],[8,9,5],[3,5,6]])\n",
    "print(np.sort(arr,axis=0))\n",
    "print(np.sort(arr,axis=1))"
   ]
  },
  {
   "cell_type": "code",
   "execution_count": 24,
   "id": "d3ce9720",
   "metadata": {},
   "outputs": [
    {
     "name": "stdout",
     "output_type": "stream",
     "text": [
      "[[1 2 3]\n",
      " [4 5 6]\n",
      " [6 7 8]]\n",
      "(3, 3)\n",
      "int64\n"
     ]
    }
   ],
   "source": [
    "arr=np.array([[1,2,3],[4,5,6],[6,7,8]])\n",
    "print(arr)\n",
    "print(arr.shape)\n",
    "print(arr.dtype)"
   ]
  }
 ],
 "metadata": {
  "kernelspec": {
   "display_name": "base",
   "language": "python",
   "name": "python3"
  },
  "language_info": {
   "codemirror_mode": {
    "name": "ipython",
    "version": 3
   },
   "file_extension": ".py",
   "mimetype": "text/x-python",
   "name": "python",
   "nbconvert_exporter": "python",
   "pygments_lexer": "ipython3",
   "version": "3.12.7"
  }
 },
 "nbformat": 4,
 "nbformat_minor": 5
}
